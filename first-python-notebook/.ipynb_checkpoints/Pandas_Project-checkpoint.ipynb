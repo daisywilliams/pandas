{
 "cells": [
  {
   "cell_type": "code",
   "execution_count": 17,
   "metadata": {},
   "outputs": [],
   "source": [
    "import pandas as pd"
   ]
  },
  {
   "cell_type": "code",
   "execution_count": 146,
   "metadata": {},
   "outputs": [],
   "source": [
    "death_list = pd.read_csv(\"Death.csv\") "
   ]
  },
  {
   "cell_type": "code",
   "execution_count": 155,
   "metadata": {},
   "outputs": [],
   "source": [
    "death_list=death_list[(death_list[\"Deaths\"] != \".\") & (death_list[\"Death Rate\"] != \".\") & (death_list[\"Age Adjusted Death Rate\"] != \".\")] "
   ]
  },
  {
   "cell_type": "code",
   "execution_count": 158,
   "metadata": {},
   "outputs": [],
   "source": [
    "death_list[\"Deaths\"] = pd.to_numeric(death_list[\"Deaths\"])\n",
    "death_list[\"Death Rate\"] = pd.to_numeric(death_list[\"Death Rate\"])\n",
    "death_list[\"Age Adjusted Death Rate\"] = pd.to_numeric(death_list[\"Age Adjusted Death Rate\"]) "
   ]
  },
  {
   "cell_type": "code",
   "execution_count": 160,
   "metadata": {},
   "outputs": [
    {
     "name": "stdout",
     "output_type": "stream",
     "text": [
      "<class 'pandas.core.frame.DataFrame'>\n",
      "Int64Index: 708 entries, 0 to 1093\n",
      "Data columns (total 7 columns):\n",
      " #   Column                   Non-Null Count  Dtype  \n",
      "---  ------                   --------------  -----  \n",
      " 0   Year                     708 non-null    int64  \n",
      " 1   Leading Cause            708 non-null    object \n",
      " 2   Sex                      708 non-null    object \n",
      " 3   Race Ethnicity           708 non-null    object \n",
      " 4   Deaths                   708 non-null    int64  \n",
      " 5   Death Rate               708 non-null    float64\n",
      " 6   Age Adjusted Death Rate  708 non-null    float64\n",
      "dtypes: float64(2), int64(2), object(3)\n",
      "memory usage: 44.2+ KB\n"
     ]
    }
   ],
   "source": [
    "death_list.info()"
   ]
  },
  {
   "cell_type": "code",
   "execution_count": 161,
   "metadata": {},
   "outputs": [
    {
     "data": {
      "text/html": [
       "<div>\n",
       "<style scoped>\n",
       "    .dataframe tbody tr th:only-of-type {\n",
       "        vertical-align: middle;\n",
       "    }\n",
       "\n",
       "    .dataframe tbody tr th {\n",
       "        vertical-align: top;\n",
       "    }\n",
       "\n",
       "    .dataframe thead th {\n",
       "        text-align: right;\n",
       "    }\n",
       "</style>\n",
       "<table border=\"1\" class=\"dataframe\">\n",
       "  <thead>\n",
       "    <tr style=\"text-align: right;\">\n",
       "      <th></th>\n",
       "      <th>Year</th>\n",
       "      <th>Leading Cause</th>\n",
       "      <th>Sex</th>\n",
       "      <th>Race Ethnicity</th>\n",
       "      <th>Deaths</th>\n",
       "      <th>Death Rate</th>\n",
       "      <th>Age Adjusted Death Rate</th>\n",
       "    </tr>\n",
       "  </thead>\n",
       "  <tbody>\n",
       "    <tr>\n",
       "      <th>0</th>\n",
       "      <td>2010</td>\n",
       "      <td>Influenza (Flu) and Pneumonia (J09-J18)</td>\n",
       "      <td>F</td>\n",
       "      <td>Hispanic</td>\n",
       "      <td>228</td>\n",
       "      <td>23.1</td>\n",
       "      <td>23.1</td>\n",
       "    </tr>\n",
       "    <tr>\n",
       "      <th>1</th>\n",
       "      <td>2008</td>\n",
       "      <td>Accidents Except Drug Posioning (V01-X39, X43,...</td>\n",
       "      <td>F</td>\n",
       "      <td>Hispanic</td>\n",
       "      <td>68</td>\n",
       "      <td>6.6</td>\n",
       "      <td>6.6</td>\n",
       "    </tr>\n",
       "    <tr>\n",
       "      <th>2</th>\n",
       "      <td>2013</td>\n",
       "      <td>Accidents Except Drug Posioning (V01-X39, X43,...</td>\n",
       "      <td>M</td>\n",
       "      <td>White Non-Hispanic</td>\n",
       "      <td>271</td>\n",
       "      <td>17.9</td>\n",
       "      <td>17.9</td>\n",
       "    </tr>\n",
       "    <tr>\n",
       "      <th>3</th>\n",
       "      <td>2010</td>\n",
       "      <td>Cerebrovascular Disease (Stroke: I60-I69)</td>\n",
       "      <td>M</td>\n",
       "      <td>Hispanic</td>\n",
       "      <td>140</td>\n",
       "      <td>21.4</td>\n",
       "      <td>21.4</td>\n",
       "    </tr>\n",
       "    <tr>\n",
       "      <th>4</th>\n",
       "      <td>2009</td>\n",
       "      <td>Assault (Homicide: Y87.1, X85-Y09)</td>\n",
       "      <td>M</td>\n",
       "      <td>Black Non-Hispanic</td>\n",
       "      <td>255</td>\n",
       "      <td>30.0</td>\n",
       "      <td>30.0</td>\n",
       "    </tr>\n",
       "  </tbody>\n",
       "</table>\n",
       "</div>"
      ],
      "text/plain": [
       "   Year                                      Leading Cause Sex  \\\n",
       "0  2010            Influenza (Flu) and Pneumonia (J09-J18)   F   \n",
       "1  2008  Accidents Except Drug Posioning (V01-X39, X43,...   F   \n",
       "2  2013  Accidents Except Drug Posioning (V01-X39, X43,...   M   \n",
       "3  2010          Cerebrovascular Disease (Stroke: I60-I69)   M   \n",
       "4  2009                 Assault (Homicide: Y87.1, X85-Y09)   M   \n",
       "\n",
       "       Race Ethnicity  Deaths  Death Rate  Age Adjusted Death Rate  \n",
       "0            Hispanic     228        23.1                     23.1  \n",
       "1            Hispanic      68         6.6                      6.6  \n",
       "2  White Non-Hispanic     271        17.9                     17.9  \n",
       "3            Hispanic     140        21.4                     21.4  \n",
       "4  Black Non-Hispanic     255        30.0                     30.0  "
      ]
     },
     "execution_count": 161,
     "metadata": {},
     "output_type": "execute_result"
    }
   ],
   "source": [
    "death_list.head()"
   ]
  },
  {
   "cell_type": "code",
   "execution_count": 162,
   "metadata": {},
   "outputs": [
    {
     "data": {
      "text/html": [
       "<div>\n",
       "<style scoped>\n",
       "    .dataframe tbody tr th:only-of-type {\n",
       "        vertical-align: middle;\n",
       "    }\n",
       "\n",
       "    .dataframe tbody tr th {\n",
       "        vertical-align: top;\n",
       "    }\n",
       "\n",
       "    .dataframe thead th {\n",
       "        text-align: right;\n",
       "    }\n",
       "</style>\n",
       "<table border=\"1\" class=\"dataframe\">\n",
       "  <thead>\n",
       "    <tr style=\"text-align: right;\">\n",
       "      <th></th>\n",
       "      <th>index</th>\n",
       "      <th>Leading Cause</th>\n",
       "    </tr>\n",
       "  </thead>\n",
       "  <tbody>\n",
       "    <tr>\n",
       "      <th>0</th>\n",
       "      <td>0</td>\n",
       "      <td>Influenza (Flu) and Pneumonia (J09-J18)</td>\n",
       "    </tr>\n",
       "    <tr>\n",
       "      <th>1</th>\n",
       "      <td>1</td>\n",
       "      <td>Accidents Except Drug Posioning (V01-X39, X43,...</td>\n",
       "    </tr>\n",
       "    <tr>\n",
       "      <th>2</th>\n",
       "      <td>2</td>\n",
       "      <td>Accidents Except Drug Posioning (V01-X39, X43,...</td>\n",
       "    </tr>\n",
       "    <tr>\n",
       "      <th>3</th>\n",
       "      <td>3</td>\n",
       "      <td>Cerebrovascular Disease (Stroke: I60-I69)</td>\n",
       "    </tr>\n",
       "    <tr>\n",
       "      <th>4</th>\n",
       "      <td>4</td>\n",
       "      <td>Assault (Homicide: Y87.1, X85-Y09)</td>\n",
       "    </tr>\n",
       "    <tr>\n",
       "      <th>...</th>\n",
       "      <td>...</td>\n",
       "      <td>...</td>\n",
       "    </tr>\n",
       "    <tr>\n",
       "      <th>703</th>\n",
       "      <td>1087</td>\n",
       "      <td>Nephritis, Nephrotic Syndrome and Nephrisis (N...</td>\n",
       "    </tr>\n",
       "    <tr>\n",
       "      <th>704</th>\n",
       "      <td>1090</td>\n",
       "      <td>Accidents Except Drug Posioning (V01-X39, X43,...</td>\n",
       "    </tr>\n",
       "    <tr>\n",
       "      <th>705</th>\n",
       "      <td>1091</td>\n",
       "      <td>Malignant Neoplasms (Cancer: C00-C97)</td>\n",
       "    </tr>\n",
       "    <tr>\n",
       "      <th>706</th>\n",
       "      <td>1092</td>\n",
       "      <td>Intentional Self-Harm (Suicide: X60-X84, Y87.0)</td>\n",
       "    </tr>\n",
       "    <tr>\n",
       "      <th>707</th>\n",
       "      <td>1093</td>\n",
       "      <td>Essential Hypertension and Renal Diseases (I10...</td>\n",
       "    </tr>\n",
       "  </tbody>\n",
       "</table>\n",
       "<p>708 rows × 2 columns</p>\n",
       "</div>"
      ],
      "text/plain": [
       "     index                                      Leading Cause\n",
       "0        0            Influenza (Flu) and Pneumonia (J09-J18)\n",
       "1        1  Accidents Except Drug Posioning (V01-X39, X43,...\n",
       "2        2  Accidents Except Drug Posioning (V01-X39, X43,...\n",
       "3        3          Cerebrovascular Disease (Stroke: I60-I69)\n",
       "4        4                 Assault (Homicide: Y87.1, X85-Y09)\n",
       "..     ...                                                ...\n",
       "703   1087  Nephritis, Nephrotic Syndrome and Nephrisis (N...\n",
       "704   1090  Accidents Except Drug Posioning (V01-X39, X43,...\n",
       "705   1091              Malignant Neoplasms (Cancer: C00-C97)\n",
       "706   1092    Intentional Self-Harm (Suicide: X60-X84, Y87.0)\n",
       "707   1093  Essential Hypertension and Renal Diseases (I10...\n",
       "\n",
       "[708 rows x 2 columns]"
      ]
     },
     "execution_count": 162,
     "metadata": {},
     "output_type": "execute_result"
    }
   ],
   "source": [
    "death_list['Leading Cause'].reset_index ()"
   ]
  },
  {
   "cell_type": "code",
   "execution_count": 163,
   "metadata": {},
   "outputs": [],
   "source": [
    "flu_death = \"Influenza (Flu) and Pneumonia (J09-J18)\""
   ]
  },
  {
   "cell_type": "code",
   "execution_count": 164,
   "metadata": {},
   "outputs": [
    {
     "data": {
      "text/plain": [
       "'Influenza (Flu) and Pneumonia (J09-J18)'"
      ]
     },
     "execution_count": 164,
     "metadata": {},
     "output_type": "execute_result"
    }
   ],
   "source": [
    "flu_death"
   ]
  },
  {
   "cell_type": "code",
   "execution_count": 165,
   "metadata": {},
   "outputs": [],
   "source": [
    "flu=death_list[death_list[\"Leading Cause\"] == flu_death]"
   ]
  },
  {
   "cell_type": "code",
   "execution_count": 166,
   "metadata": {},
   "outputs": [
    {
     "data": {
      "text/html": [
       "<div>\n",
       "<style scoped>\n",
       "    .dataframe tbody tr th:only-of-type {\n",
       "        vertical-align: middle;\n",
       "    }\n",
       "\n",
       "    .dataframe tbody tr th {\n",
       "        vertical-align: top;\n",
       "    }\n",
       "\n",
       "    .dataframe thead th {\n",
       "        text-align: right;\n",
       "    }\n",
       "</style>\n",
       "<table border=\"1\" class=\"dataframe\">\n",
       "  <thead>\n",
       "    <tr style=\"text-align: right;\">\n",
       "      <th></th>\n",
       "      <th>Year</th>\n",
       "      <th>Leading Cause</th>\n",
       "      <th>Sex</th>\n",
       "      <th>Race Ethnicity</th>\n",
       "      <th>Deaths</th>\n",
       "      <th>Death Rate</th>\n",
       "      <th>Age Adjusted Death Rate</th>\n",
       "    </tr>\n",
       "  </thead>\n",
       "  <tbody>\n",
       "    <tr>\n",
       "      <th>0</th>\n",
       "      <td>2010</td>\n",
       "      <td>Influenza (Flu) and Pneumonia (J09-J18)</td>\n",
       "      <td>F</td>\n",
       "      <td>Hispanic</td>\n",
       "      <td>228</td>\n",
       "      <td>23.1</td>\n",
       "      <td>23.1</td>\n",
       "    </tr>\n",
       "    <tr>\n",
       "      <th>21</th>\n",
       "      <td>2009</td>\n",
       "      <td>Influenza (Flu) and Pneumonia (J09-J18)</td>\n",
       "      <td>M</td>\n",
       "      <td>Hispanic</td>\n",
       "      <td>183</td>\n",
       "      <td>30.9</td>\n",
       "      <td>30.9</td>\n",
       "    </tr>\n",
       "    <tr>\n",
       "      <th>42</th>\n",
       "      <td>2009</td>\n",
       "      <td>Influenza (Flu) and Pneumonia (J09-J18)</td>\n",
       "      <td>F</td>\n",
       "      <td>Black Non-Hispanic</td>\n",
       "      <td>281</td>\n",
       "      <td>24.5</td>\n",
       "      <td>24.5</td>\n",
       "    </tr>\n",
       "    <tr>\n",
       "      <th>71</th>\n",
       "      <td>2009</td>\n",
       "      <td>Influenza (Flu) and Pneumonia (J09-J18)</td>\n",
       "      <td>M</td>\n",
       "      <td>White Non-Hispanic</td>\n",
       "      <td>555</td>\n",
       "      <td>34.3</td>\n",
       "      <td>34.3</td>\n",
       "    </tr>\n",
       "    <tr>\n",
       "      <th>83</th>\n",
       "      <td>2007</td>\n",
       "      <td>Influenza (Flu) and Pneumonia (J09-J18)</td>\n",
       "      <td>F</td>\n",
       "      <td>Black Non-Hispanic</td>\n",
       "      <td>295</td>\n",
       "      <td>26.9</td>\n",
       "      <td>26.9</td>\n",
       "    </tr>\n",
       "  </tbody>\n",
       "</table>\n",
       "</div>"
      ],
      "text/plain": [
       "    Year                            Leading Cause Sex      Race Ethnicity  \\\n",
       "0   2010  Influenza (Flu) and Pneumonia (J09-J18)   F            Hispanic   \n",
       "21  2009  Influenza (Flu) and Pneumonia (J09-J18)   M            Hispanic   \n",
       "42  2009  Influenza (Flu) and Pneumonia (J09-J18)   F  Black Non-Hispanic   \n",
       "71  2009  Influenza (Flu) and Pneumonia (J09-J18)   M  White Non-Hispanic   \n",
       "83  2007  Influenza (Flu) and Pneumonia (J09-J18)   F  Black Non-Hispanic   \n",
       "\n",
       "    Deaths  Death Rate  Age Adjusted Death Rate  \n",
       "0      228        23.1                     23.1  \n",
       "21     183        30.9                     30.9  \n",
       "42     281        24.5                     24.5  \n",
       "71     555        34.3                     34.3  \n",
       "83     295        26.9                     26.9  "
      ]
     },
     "execution_count": 166,
     "metadata": {},
     "output_type": "execute_result"
    }
   ],
   "source": [
    "flu.head()"
   ]
  },
  {
   "cell_type": "code",
   "execution_count": 167,
   "metadata": {},
   "outputs": [
    {
     "data": {
      "text/html": [
       "<div>\n",
       "<style scoped>\n",
       "    .dataframe tbody tr th:only-of-type {\n",
       "        vertical-align: middle;\n",
       "    }\n",
       "\n",
       "    .dataframe tbody tr th {\n",
       "        vertical-align: top;\n",
       "    }\n",
       "\n",
       "    .dataframe thead th {\n",
       "        text-align: right;\n",
       "    }\n",
       "</style>\n",
       "<table border=\"1\" class=\"dataframe\">\n",
       "  <thead>\n",
       "    <tr style=\"text-align: right;\">\n",
       "      <th></th>\n",
       "      <th>Year</th>\n",
       "      <th>Leading Cause</th>\n",
       "      <th>Sex</th>\n",
       "      <th>Race Ethnicity</th>\n",
       "      <th>Deaths</th>\n",
       "      <th>Death Rate</th>\n",
       "      <th>Age Adjusted Death Rate</th>\n",
       "    </tr>\n",
       "  </thead>\n",
       "  <tbody>\n",
       "    <tr>\n",
       "      <th>266</th>\n",
       "      <td>2007</td>\n",
       "      <td>Influenza (Flu) and Pneumonia (J09-J18)</td>\n",
       "      <td>F</td>\n",
       "      <td>Asian and Pacific Islander</td>\n",
       "      <td>58</td>\n",
       "      <td>15.8</td>\n",
       "      <td>15.8</td>\n",
       "    </tr>\n",
       "    <tr>\n",
       "      <th>987</th>\n",
       "      <td>2007</td>\n",
       "      <td>Influenza (Flu) and Pneumonia (J09-J18)</td>\n",
       "      <td>M</td>\n",
       "      <td>Asian and Pacific Islander</td>\n",
       "      <td>66</td>\n",
       "      <td>25.7</td>\n",
       "      <td>25.7</td>\n",
       "    </tr>\n",
       "    <tr>\n",
       "      <th>815</th>\n",
       "      <td>2008</td>\n",
       "      <td>Influenza (Flu) and Pneumonia (J09-J18)</td>\n",
       "      <td>F</td>\n",
       "      <td>Asian and Pacific Islander</td>\n",
       "      <td>73</td>\n",
       "      <td>19.1</td>\n",
       "      <td>19.1</td>\n",
       "    </tr>\n",
       "    <tr>\n",
       "      <th>941</th>\n",
       "      <td>2010</td>\n",
       "      <td>Influenza (Flu) and Pneumonia (J09-J18)</td>\n",
       "      <td>F</td>\n",
       "      <td>Asian and Pacific Islander</td>\n",
       "      <td>74</td>\n",
       "      <td>16.9</td>\n",
       "      <td>16.9</td>\n",
       "    </tr>\n",
       "    <tr>\n",
       "      <th>254</th>\n",
       "      <td>2012</td>\n",
       "      <td>Influenza (Flu) and Pneumonia (J09-J18)</td>\n",
       "      <td>F</td>\n",
       "      <td>Asian and Pacific Islander</td>\n",
       "      <td>74</td>\n",
       "      <td>15.1</td>\n",
       "      <td>15.1</td>\n",
       "    </tr>\n",
       "    <tr>\n",
       "      <th>...</th>\n",
       "      <td>...</td>\n",
       "      <td>...</td>\n",
       "      <td>...</td>\n",
       "      <td>...</td>\n",
       "      <td>...</td>\n",
       "      <td>...</td>\n",
       "      <td>...</td>\n",
       "    </tr>\n",
       "    <tr>\n",
       "      <th>404</th>\n",
       "      <td>2009</td>\n",
       "      <td>Influenza (Flu) and Pneumonia (J09-J18)</td>\n",
       "      <td>F</td>\n",
       "      <td>White Non-Hispanic</td>\n",
       "      <td>629</td>\n",
       "      <td>23.1</td>\n",
       "      <td>23.1</td>\n",
       "    </tr>\n",
       "    <tr>\n",
       "      <th>976</th>\n",
       "      <td>2011</td>\n",
       "      <td>Influenza (Flu) and Pneumonia (J09-J18)</td>\n",
       "      <td>M</td>\n",
       "      <td>White Non-Hispanic</td>\n",
       "      <td>646</td>\n",
       "      <td>39.3</td>\n",
       "      <td>39.3</td>\n",
       "    </tr>\n",
       "    <tr>\n",
       "      <th>730</th>\n",
       "      <td>2007</td>\n",
       "      <td>Influenza (Flu) and Pneumonia (J09-J18)</td>\n",
       "      <td>F</td>\n",
       "      <td>White Non-Hispanic</td>\n",
       "      <td>659</td>\n",
       "      <td>23.2</td>\n",
       "      <td>23.2</td>\n",
       "    </tr>\n",
       "    <tr>\n",
       "      <th>588</th>\n",
       "      <td>2011</td>\n",
       "      <td>Influenza (Flu) and Pneumonia (J09-J18)</td>\n",
       "      <td>F</td>\n",
       "      <td>White Non-Hispanic</td>\n",
       "      <td>696</td>\n",
       "      <td>25.4</td>\n",
       "      <td>25.4</td>\n",
       "    </tr>\n",
       "    <tr>\n",
       "      <th>687</th>\n",
       "      <td>2010</td>\n",
       "      <td>Influenza (Flu) and Pneumonia (J09-J18)</td>\n",
       "      <td>F</td>\n",
       "      <td>White Non-Hispanic</td>\n",
       "      <td>707</td>\n",
       "      <td>24.8</td>\n",
       "      <td>24.8</td>\n",
       "    </tr>\n",
       "  </tbody>\n",
       "</table>\n",
       "<p>64 rows × 7 columns</p>\n",
       "</div>"
      ],
      "text/plain": [
       "     Year                            Leading Cause Sex  \\\n",
       "266  2007  Influenza (Flu) and Pneumonia (J09-J18)   F   \n",
       "987  2007  Influenza (Flu) and Pneumonia (J09-J18)   M   \n",
       "815  2008  Influenza (Flu) and Pneumonia (J09-J18)   F   \n",
       "941  2010  Influenza (Flu) and Pneumonia (J09-J18)   F   \n",
       "254  2012  Influenza (Flu) and Pneumonia (J09-J18)   F   \n",
       "..    ...                                      ...  ..   \n",
       "404  2009  Influenza (Flu) and Pneumonia (J09-J18)   F   \n",
       "976  2011  Influenza (Flu) and Pneumonia (J09-J18)   M   \n",
       "730  2007  Influenza (Flu) and Pneumonia (J09-J18)   F   \n",
       "588  2011  Influenza (Flu) and Pneumonia (J09-J18)   F   \n",
       "687  2010  Influenza (Flu) and Pneumonia (J09-J18)   F   \n",
       "\n",
       "                 Race Ethnicity  Deaths  Death Rate  Age Adjusted Death Rate  \n",
       "266  Asian and Pacific Islander      58        15.8                     15.8  \n",
       "987  Asian and Pacific Islander      66        25.7                     25.7  \n",
       "815  Asian and Pacific Islander      73        19.1                     19.1  \n",
       "941  Asian and Pacific Islander      74        16.9                     16.9  \n",
       "254  Asian and Pacific Islander      74        15.1                     15.1  \n",
       "..                          ...     ...         ...                      ...  \n",
       "404          White Non-Hispanic     629        23.1                     23.1  \n",
       "976          White Non-Hispanic     646        39.3                     39.3  \n",
       "730          White Non-Hispanic     659        23.2                     23.2  \n",
       "588          White Non-Hispanic     696        25.4                     25.4  \n",
       "687          White Non-Hispanic     707        24.8                     24.8  \n",
       "\n",
       "[64 rows x 7 columns]"
      ]
     },
     "execution_count": 167,
     "metadata": {},
     "output_type": "execute_result"
    }
   ],
   "source": [
    "flu.sort_values(\"Deaths\")"
   ]
  },
  {
   "cell_type": "code",
   "execution_count": 203,
   "metadata": {},
   "outputs": [
    {
     "data": {
      "text/plain": [
       "Year                       2010.500000\n",
       "Deaths                      288.015625\n",
       "Death Rate                   27.048437\n",
       "Age Adjusted Death Rate      27.048437\n",
       "dtype: float64"
      ]
     },
     "execution_count": 203,
     "metadata": {},
     "output_type": "execute_result"
    }
   ],
   "source": [
    "flu.sort_values(\"Deaths\").mean()"
   ]
  },
  {
   "cell_type": "code",
   "execution_count": 204,
   "metadata": {},
   "outputs": [
    {
     "data": {
      "text/plain": [
       "Year                                                          2014\n",
       "Leading Cause              Influenza (Flu) and Pneumonia (J09-J18)\n",
       "Sex                                                              M\n",
       "Race Ethnicity                                  White Non-Hispanic\n",
       "Deaths                                                         707\n",
       "Death Rate                                                    40.1\n",
       "Age Adjusted Death Rate                                       40.1\n",
       "dtype: object"
      ]
     },
     "execution_count": 204,
     "metadata": {},
     "output_type": "execute_result"
    }
   ],
   "source": [
    "flu.sort_values(\"Deaths\").max()"
   ]
  },
  {
   "cell_type": "code",
   "execution_count": 205,
   "metadata": {},
   "outputs": [
    {
     "data": {
      "text/plain": [
       "Year                                                          2007\n",
       "Leading Cause              Influenza (Flu) and Pneumonia (J09-J18)\n",
       "Sex                                                              F\n",
       "Race Ethnicity                          Asian and Pacific Islander\n",
       "Deaths                                                          58\n",
       "Death Rate                                                    14.1\n",
       "Age Adjusted Death Rate                                       14.1\n",
       "dtype: object"
      ]
     },
     "execution_count": 205,
     "metadata": {},
     "output_type": "execute_result"
    }
   ],
   "source": [
    "flu.sort_values(\"Deaths\").min()"
   ]
  },
  {
   "cell_type": "code",
   "execution_count": 206,
   "metadata": {},
   "outputs": [
    {
     "data": {
      "text/plain": [
       "Year                       2010.5\n",
       "Deaths                      227.5\n",
       "Death Rate                   25.6\n",
       "Age Adjusted Death Rate      25.6\n",
       "dtype: float64"
      ]
     },
     "execution_count": 206,
     "metadata": {},
     "output_type": "execute_result"
    }
   ],
   "source": [
    "flu.sort_values(\"Deaths\").median()"
   ]
  },
  {
   "cell_type": "code",
   "execution_count": 207,
   "metadata": {},
   "outputs": [
    {
     "data": {
      "text/plain": [
       "Year                                                                  128672\n",
       "Leading Cause              Influenza (Flu) and Pneumonia (J09-J18)Influen...\n",
       "Sex                        FMFFFMFFFFMMMMMMMMMFMMFMMFMFFFMFFMMMMMMFFMFFFF...\n",
       "Race Ethnicity             Asian and Pacific IslanderAsian and Pacific Is...\n",
       "Deaths                                                                 18433\n",
       "Death Rate                                                            1731.1\n",
       "Age Adjusted Death Rate                                               1731.1\n",
       "dtype: object"
      ]
     },
     "execution_count": 207,
     "metadata": {},
     "output_type": "execute_result"
    }
   ],
   "source": [
    "flu.sort_values(\"Deaths\").sum()"
   ]
  },
  {
   "cell_type": "code",
   "execution_count": 187,
   "metadata": {},
   "outputs": [],
   "source": [
    "year=flu.groupby (\"Year\").sum ()\n",
    "race= flu. groupby (\"Race Ethnicity\").sum()\n",
    "sex=flu. groupby (\"Sex\").sum()"
   ]
  },
  {
   "cell_type": "code",
   "execution_count": 189,
   "metadata": {},
   "outputs": [
    {
     "data": {
      "text/html": [
       "<div>\n",
       "<style scoped>\n",
       "    .dataframe tbody tr th:only-of-type {\n",
       "        vertical-align: middle;\n",
       "    }\n",
       "\n",
       "    .dataframe tbody tr th {\n",
       "        vertical-align: top;\n",
       "    }\n",
       "\n",
       "    .dataframe thead th {\n",
       "        text-align: right;\n",
       "    }\n",
       "</style>\n",
       "<table border=\"1\" class=\"dataframe\">\n",
       "  <thead>\n",
       "    <tr style=\"text-align: right;\">\n",
       "      <th></th>\n",
       "      <th>Deaths</th>\n",
       "      <th>Death Rate</th>\n",
       "      <th>Age Adjusted Death Rate</th>\n",
       "    </tr>\n",
       "    <tr>\n",
       "      <th>Year</th>\n",
       "      <th></th>\n",
       "      <th></th>\n",
       "      <th></th>\n",
       "    </tr>\n",
       "  </thead>\n",
       "  <tbody>\n",
       "    <tr>\n",
       "      <th>2007</th>\n",
       "      <td>2216</td>\n",
       "      <td>223.6</td>\n",
       "      <td>223.6</td>\n",
       "    </tr>\n",
       "    <tr>\n",
       "      <th>2008</th>\n",
       "      <td>2267</td>\n",
       "      <td>231.4</td>\n",
       "      <td>231.4</td>\n",
       "    </tr>\n",
       "    <tr>\n",
       "      <th>2009</th>\n",
       "      <td>2238</td>\n",
       "      <td>215.3</td>\n",
       "      <td>215.3</td>\n",
       "    </tr>\n",
       "    <tr>\n",
       "      <th>2010</th>\n",
       "      <td>2442</td>\n",
       "      <td>228.4</td>\n",
       "      <td>228.4</td>\n",
       "    </tr>\n",
       "    <tr>\n",
       "      <th>2011</th>\n",
       "      <td>2462</td>\n",
       "      <td>227.9</td>\n",
       "      <td>227.9</td>\n",
       "    </tr>\n",
       "    <tr>\n",
       "      <th>2012</th>\n",
       "      <td>2217</td>\n",
       "      <td>201.1</td>\n",
       "      <td>201.1</td>\n",
       "    </tr>\n",
       "    <tr>\n",
       "      <th>2013</th>\n",
       "      <td>2416</td>\n",
       "      <td>214.3</td>\n",
       "      <td>214.3</td>\n",
       "    </tr>\n",
       "    <tr>\n",
       "      <th>2014</th>\n",
       "      <td>2175</td>\n",
       "      <td>189.1</td>\n",
       "      <td>189.1</td>\n",
       "    </tr>\n",
       "  </tbody>\n",
       "</table>\n",
       "</div>"
      ],
      "text/plain": [
       "      Deaths  Death Rate  Age Adjusted Death Rate\n",
       "Year                                             \n",
       "2007    2216       223.6                    223.6\n",
       "2008    2267       231.4                    231.4\n",
       "2009    2238       215.3                    215.3\n",
       "2010    2442       228.4                    228.4\n",
       "2011    2462       227.9                    227.9\n",
       "2012    2217       201.1                    201.1\n",
       "2013    2416       214.3                    214.3\n",
       "2014    2175       189.1                    189.1"
      ]
     },
     "execution_count": 189,
     "metadata": {},
     "output_type": "execute_result"
    }
   ],
   "source": [
    "year"
   ]
  },
  {
   "cell_type": "code",
   "execution_count": 190,
   "metadata": {},
   "outputs": [
    {
     "data": {
      "text/html": [
       "<div>\n",
       "<style scoped>\n",
       "    .dataframe tbody tr th:only-of-type {\n",
       "        vertical-align: middle;\n",
       "    }\n",
       "\n",
       "    .dataframe tbody tr th {\n",
       "        vertical-align: top;\n",
       "    }\n",
       "\n",
       "    .dataframe thead th {\n",
       "        text-align: right;\n",
       "    }\n",
       "</style>\n",
       "<table border=\"1\" class=\"dataframe\">\n",
       "  <thead>\n",
       "    <tr style=\"text-align: right;\">\n",
       "      <th></th>\n",
       "      <th>Year</th>\n",
       "      <th>Deaths</th>\n",
       "      <th>Death Rate</th>\n",
       "      <th>Age Adjusted Death Rate</th>\n",
       "    </tr>\n",
       "    <tr>\n",
       "      <th>Race Ethnicity</th>\n",
       "      <th></th>\n",
       "      <th></th>\n",
       "      <th></th>\n",
       "      <th></th>\n",
       "    </tr>\n",
       "  </thead>\n",
       "  <tbody>\n",
       "    <tr>\n",
       "      <th>Asian and Pacific Islander</th>\n",
       "      <td>32168</td>\n",
       "      <td>1328</td>\n",
       "      <td>348.8</td>\n",
       "      <td>348.8</td>\n",
       "    </tr>\n",
       "    <tr>\n",
       "      <th>Black Non-Hispanic</th>\n",
       "      <td>32168</td>\n",
       "      <td>4148</td>\n",
       "      <td>485.7</td>\n",
       "      <td>485.7</td>\n",
       "    </tr>\n",
       "    <tr>\n",
       "      <th>Hispanic</th>\n",
       "      <td>32168</td>\n",
       "      <td>3350</td>\n",
       "      <td>439.7</td>\n",
       "      <td>439.7</td>\n",
       "    </tr>\n",
       "    <tr>\n",
       "      <th>White Non-Hispanic</th>\n",
       "      <td>32168</td>\n",
       "      <td>9607</td>\n",
       "      <td>456.9</td>\n",
       "      <td>456.9</td>\n",
       "    </tr>\n",
       "  </tbody>\n",
       "</table>\n",
       "</div>"
      ],
      "text/plain": [
       "                             Year  Deaths  Death Rate  Age Adjusted Death Rate\n",
       "Race Ethnicity                                                                \n",
       "Asian and Pacific Islander  32168    1328       348.8                    348.8\n",
       "Black Non-Hispanic          32168    4148       485.7                    485.7\n",
       "Hispanic                    32168    3350       439.7                    439.7\n",
       "White Non-Hispanic          32168    9607       456.9                    456.9"
      ]
     },
     "execution_count": 190,
     "metadata": {},
     "output_type": "execute_result"
    }
   ],
   "source": [
    "race"
   ]
  },
  {
   "cell_type": "code",
   "execution_count": 191,
   "metadata": {},
   "outputs": [
    {
     "data": {
      "text/html": [
       "<div>\n",
       "<style scoped>\n",
       "    .dataframe tbody tr th:only-of-type {\n",
       "        vertical-align: middle;\n",
       "    }\n",
       "\n",
       "    .dataframe tbody tr th {\n",
       "        vertical-align: top;\n",
       "    }\n",
       "\n",
       "    .dataframe thead th {\n",
       "        text-align: right;\n",
       "    }\n",
       "</style>\n",
       "<table border=\"1\" class=\"dataframe\">\n",
       "  <thead>\n",
       "    <tr style=\"text-align: right;\">\n",
       "      <th></th>\n",
       "      <th>Year</th>\n",
       "      <th>Deaths</th>\n",
       "      <th>Death Rate</th>\n",
       "      <th>Age Adjusted Death Rate</th>\n",
       "    </tr>\n",
       "    <tr>\n",
       "      <th>Sex</th>\n",
       "      <th></th>\n",
       "      <th></th>\n",
       "      <th></th>\n",
       "      <th></th>\n",
       "    </tr>\n",
       "  </thead>\n",
       "  <tbody>\n",
       "    <tr>\n",
       "      <th>F</th>\n",
       "      <td>64336</td>\n",
       "      <td>9674</td>\n",
       "      <td>680.8</td>\n",
       "      <td>680.8</td>\n",
       "    </tr>\n",
       "    <tr>\n",
       "      <th>M</th>\n",
       "      <td>64336</td>\n",
       "      <td>8759</td>\n",
       "      <td>1050.3</td>\n",
       "      <td>1050.3</td>\n",
       "    </tr>\n",
       "  </tbody>\n",
       "</table>\n",
       "</div>"
      ],
      "text/plain": [
       "      Year  Deaths  Death Rate  Age Adjusted Death Rate\n",
       "Sex                                                    \n",
       "F    64336    9674       680.8                    680.8\n",
       "M    64336    8759      1050.3                   1050.3"
      ]
     },
     "execution_count": 191,
     "metadata": {},
     "output_type": "execute_result"
    }
   ],
   "source": [
    "sex"
   ]
  },
  {
   "cell_type": "code",
   "execution_count": 196,
   "metadata": {},
   "outputs": [],
   "source": [
    "sex.to_csv('sex.csv', index=False)"
   ]
  },
  {
   "cell_type": "code",
   "execution_count": 197,
   "metadata": {},
   "outputs": [],
   "source": [
    "race.to_csv('race.csv', index=False)"
   ]
  },
  {
   "cell_type": "code",
   "execution_count": 198,
   "metadata": {},
   "outputs": [],
   "source": [
    "year.to_csv('year.csv', index=False)"
   ]
  },
  {
   "cell_type": "code",
   "execution_count": 212,
   "metadata": {},
   "outputs": [
    {
     "data": {
      "text/plain": [
       "Deaths                     2252.50\n",
       "Death Rate                  219.45\n",
       "Age Adjusted Death Rate     219.45\n",
       "dtype: float64"
      ]
     },
     "execution_count": 212,
     "metadata": {},
     "output_type": "execute_result"
    }
   ],
   "source": [
    "year.sort_values(\"Year\").median()"
   ]
  },
  {
   "cell_type": "code",
   "execution_count": 213,
   "metadata": {},
   "outputs": [
    {
     "data": {
      "text/plain": [
       "Deaths                     2462.0\n",
       "Death Rate                  231.4\n",
       "Age Adjusted Death Rate     231.4\n",
       "dtype: float64"
      ]
     },
     "execution_count": 213,
     "metadata": {},
     "output_type": "execute_result"
    }
   ],
   "source": [
    "year.sort_values(\"Year\").max()"
   ]
  },
  {
   "cell_type": "code",
   "execution_count": 214,
   "metadata": {},
   "outputs": [
    {
     "data": {
      "text/plain": [
       "Deaths                     2175.0\n",
       "Death Rate                  189.1\n",
       "Age Adjusted Death Rate     189.1\n",
       "dtype: float64"
      ]
     },
     "execution_count": 214,
     "metadata": {},
     "output_type": "execute_result"
    }
   ],
   "source": [
    "year.sort_values(\"Year\").min()"
   ]
  },
  {
   "cell_type": "code",
   "execution_count": 215,
   "metadata": {},
   "outputs": [
    {
     "data": {
      "text/plain": [
       "Deaths                     2304.1250\n",
       "Death Rate                  216.3875\n",
       "Age Adjusted Death Rate     216.3875\n",
       "dtype: float64"
      ]
     },
     "execution_count": 215,
     "metadata": {},
     "output_type": "execute_result"
    }
   ],
   "source": [
    "year.sort_values(\"Year\").mean()"
   ]
  },
  {
   "cell_type": "code",
   "execution_count": 216,
   "metadata": {},
   "outputs": [
    {
     "data": {
      "text/plain": [
       "Deaths                     18433.0\n",
       "Death Rate                  1731.1\n",
       "Age Adjusted Death Rate     1731.1\n",
       "dtype: float64"
      ]
     },
     "execution_count": 216,
     "metadata": {},
     "output_type": "execute_result"
    }
   ],
   "source": [
    "year.sort_values(\"Year\").sum()"
   ]
  },
  {
   "cell_type": "code",
   "execution_count": null,
   "metadata": {},
   "outputs": [],
   "source": []
  }
 ],
 "metadata": {
  "kernelspec": {
   "display_name": "Python 3",
   "language": "python",
   "name": "python3"
  },
  "language_info": {
   "codemirror_mode": {
    "name": "ipython",
    "version": 3
   },
   "file_extension": ".py",
   "mimetype": "text/x-python",
   "name": "python",
   "nbconvert_exporter": "python",
   "pygments_lexer": "ipython3",
   "version": "3.8.2"
  }
 },
 "nbformat": 4,
 "nbformat_minor": 4
}
